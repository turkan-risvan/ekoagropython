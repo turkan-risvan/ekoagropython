{
 "cells": [
  {
   "cell_type": "code",
   "execution_count": null,
   "id": "17f991b3",
   "metadata": {},
   "outputs": [],
   "source": [
    "import numpy as np \n",
    "import pandas as pd \n",
    "import seaborn as sns\n",
    "from lightgbm import LGBMRegressor\n",
    "from matplotlib import pyplot as plt\n",
    "from scipy.stats import ttest_ind,chi2_contingency\n",
    "from sklearn.decomposition import PCA\n",
    "from sklearn.metrics import r2_score\n",
    "import optuna\n",
    "import lightgbm as lgb\n",
    "from xgboost import XGBRegressor\n",
    "from catboost import CatBoostRegressor\n",
    "from sklearn.model_selection import train_test_split\n",
    "from catboost import CatBoostRegressor, Pool, cv, MetricVisualizer\n",
    "import os\n",
    "import warnings\n",
    "for dirname, _, filenames in os.walk('/ekoagro/input'):\n",
    "    for filename in filenames:\n",
    "        print(os.path.join(dirname, filename))"
   ]
  },
  {
   "cell_type": "code",
   "execution_count": null,
   "id": "b3badcba",
   "metadata": {},
   "outputs": [],
   "source": [
    "rc = {\n",
    "    \"axes.facecolor\": \"#F8F8F8\",\n",
    "    \"figure.facecolor\": \"#F8F8F8\",\n",
    "    \"axes.edgecolor\": \"#000000\",\n",
    "    \"grid.color\": \"#EBEBE7\" + \"30\",\n",
    "    \"font.family\": \"serif\",\n",
    "    \"axes.labelcolor\": \"#000000\",\n",
    "    \"xtick.color\": \"#000000\",\n",
    "    \"ytick.color\": \"#000000\",\n",
    "    \"grid.alpha\": 0.4,\n",
    "}\n",
    "\n",
    "sns.set(rc=rc)\n",
    "palette = ['#302c36', '#037d97', '#E4591E', '#C09741',\n",
    "           '#EC5B6D', '#90A6B1', '#6ca957', '#D8E3E2']\n",
    "\n",
    "from colorama import Style, Fore\n",
    "blk = Style.BRIGHT + Fore.BLACK\n",
    "mgt = Style.BRIGHT + Fore.MAGENTA\n",
    "red = Style.BRIGHT + Fore.RED\n",
    "blu = Style.BRIGHT + Fore.BLUE\n",
    "res = Style.RESET_ALL\n",
    "\n",
    "plt.style.use('fivethirtyeight')"
   ]
  },
  {
   "cell_type": "code",
   "execution_count": null,
   "id": "19d1b24d",
   "metadata": {},
   "outputs": [],
   "source": [
    "train_data = pd.read_csv(\"/ekoagro/input/playground-series-s4e5/train.csv\")\n",
    "test_data = pd.read_csv(\"/ekoagro/input/playground-series-s4e5/test.csv\")"
   ]
  },
  {
   "cell_type": "code",
   "execution_count": null,
   "id": "b8bc7c68",
   "metadata": {},
   "outputs": [],
   "source": [
    "train_data.sample(10).style.set_properties(**{'background-color': '#f9f9f9', 'color': '#4CAF50', 'font-weight': 'bold'})"
   ]
  },
  {
   "cell_type": "code",
   "execution_count": null,
   "id": "aae0778a",
   "metadata": {},
   "outputs": [],
   "source": [
    "test_data.sample(10).style.set_properties(**{'background-color': '#f9f9f9', 'color': '#1565C0', 'font-weight': 'bold'})"
   ]
  },
  {
   "cell_type": "code",
   "execution_count": null,
   "id": "f78461e0",
   "metadata": {},
   "outputs": [],
   "source": [
    "train_data.describe().style.set_properties(**{'background-color': '#f9f9f9', 'color': '#4CAF50', 'font-weight': 'bold'})"
   ]
  },
  {
   "cell_type": "code",
   "execution_count": null,
   "id": "6c37354d",
   "metadata": {},
   "outputs": [],
   "source": [
    "test_data.describe().style.set_properties(**{'background-color': '#f9f9f9', 'color': '#1565C0', 'font-weight': 'bold'})"
   ]
  },
  {
   "cell_type": "code",
   "execution_count": null,
   "id": "1dbd7210",
   "metadata": {},
   "outputs": [],
   "source": [
    "train_data.info(show_counts=True)"
   ]
  },
  {
   "cell_type": "code",
   "execution_count": null,
   "id": "a9ead628",
   "metadata": {},
   "outputs": [],
   "source": [
    "test_data.info()"
   ]
  },
  {
   "cell_type": "code",
   "execution_count": null,
   "id": "96b4201a",
   "metadata": {},
   "outputs": [],
   "source": [
    "sns.displot(data=train_data.isnull().melt(value_name = 'missing'),\n",
    "           y = 'variable',\n",
    "           hue = 'missing',multiple='fill',height=8,aspect = 1.6)\n",
    "plt.axvline(0.4,color = 'r')\n",
    "plt.title(\"Null values in train data\",fontsize = 13)\n",
    "plt.show()"
   ]
  },
  {
   "cell_type": "code",
   "execution_count": null,
   "id": "45d92f2a",
   "metadata": {},
   "outputs": [],
   "source": [
    "sns.displot(data=test_data.isnull().melt(value_name = 'missing'),\n",
    "           y = 'variable',\n",
    "           hue = 'missing',multiple='fill',height=8,aspect = 1.6)\n",
    "plt.axvline(0.4,color = 'r')\n",
    "plt.title(\"Null values in train data\",fontsize = 13)\n",
    "plt.show()"
   ]
  },
  {
   "cell_type": "code",
   "execution_count": null,
   "id": "a96b0398",
   "metadata": {},
   "outputs": [],
   "source": [
    "train_data.duplicated().sum()"
   ]
  },
  {
   "cell_type": "code",
   "execution_count": null,
   "id": "4621c2d8",
   "metadata": {},
   "outputs": [],
   "source": [
    "train_data.columns"
   ]
  },
  {
   "cell_type": "code",
   "execution_count": null,
   "id": "434470ac",
   "metadata": {},
   "outputs": [],
   "source": [
    "# Plotting\n",
    "plt.figure(figsize=(14, 6))\n",
    "\n",
    "# Plotting histogram and KDE for 'FloodProbability' column\n",
    "plt.subplot(1, 2, 1)\n",
    "plt.hist(train_data['FloodProbability'], bins=30, color='skyblue', edgecolor='black')\n",
    "plt.title('Distribution of FloodProbability', fontsize=14, fontweight='bold')\n",
    "plt.xlabel('FloodProbability', fontsize=12)\n",
    "plt.ylabel('Frequency', fontsize=12)\n",
    "plt.xticks(fontsize=10)\n",
    "plt.yticks(fontsize=10)\n",
    "plt.grid(axis='y', linestyle='--', alpha=0.5)\n",
    "plt.tight_layout()\n",
    "\n",
    "# Plotting KDE only for 'FloodProbability' column\n",
    "plt.subplot(1, 2, 2)\n",
    "sns.kdeplot(train_data['FloodProbability'], color='black')\n",
    "plt.title('Kernel Density Estimation (KDE) for FloodProbability', fontsize=14, fontweight='bold')\n",
    "plt.xlabel('FloodProbability', fontsize=12)\n",
    "plt.ylabel('Density', fontsize=12)\n",
    "plt.xticks(fontsize=10)\n",
    "plt.yticks(fontsize=10)\n",
    "plt.grid(axis='y', linestyle='--', alpha=0.5)\n",
    "plt.tight_layout()\n",
    "\n",
    "plt.show()"
   ]
  },
  {
   "cell_type": "code",
   "execution_count": null,
   "id": "84418458",
   "metadata": {},
   "outputs": [],
   "source": [
    "unique_counts = train_data.nunique()\n",
    "#Threshold to distinguish continous and categorical\n",
    "threshold = 12\n",
    "continuous_vars = unique_counts[unique_counts > threshold].index.tolist()\n",
    "#categorical_vars = unique_counts[unique_counts <= threshold].index.tolist()\n",
    "if 'id' in continuous_vars:\n",
    "    continuous_vars.remove('id')"
   ]
  },
  {
   "cell_type": "code",
   "execution_count": null,
   "id": "2ceb8fe3",
   "metadata": {},
   "outputs": [],
   "source": [
    "# Set up warnings to be ignored (optional)\n",
    "warnings.filterwarnings(\"ignore\")\n",
    "pd.set_option('mode.use_inf_as_na', False)\n",
    "\n",
    "# List of continuous variables in your dataset\n",
    "\n",
    "\n",
    "# Set hue to your target column\n",
    "target_column = 'FloodProbability'\n",
    "\n",
    "for column in continuous_vars:\n",
    "    fig, axes = plt.subplots(1, 2, figsize=(18, 4))  # Create subplots with 1 row and 2 columns\n",
    "    \n",
    "    # Plot histogram with hue\n",
    "    sns.histplot(data=train_data, x=column, hue=target_column, bins=50, kde=True, ax=axes[0], palette='muted')\n",
    "    axes[0].set_title(f'Histogram of {column} with {target_column} Hue')\n",
    "    axes[0].set_xlabel(column)\n",
    "    axes[0].set_ylabel('Count')\n",
    "    axes[0].legend(title=target_column, loc='upper right')\n",
    "    \n",
    "    # Plot KDE plot with hue\n",
    "    sns.kdeplot(data=train_data, x=column, hue=target_column, ax=axes[1], palette='muted')\n",
    "    axes[1].set_title(f'KDE Plot of {column} with {target_column} Hue')\n",
    "    axes[1].set_xlabel(column)\n",
    "    axes[1].set_ylabel('Density')\n",
    "    axes[1].legend(title=target_column, loc='upper right')\n",
    "    \n",
    "    plt.tight_layout()  # Adjust spacing between subplots\n",
    "    plt.show()"
   ]
  },
  {
   "cell_type": "code",
   "execution_count": null,
   "id": "d7d6646b",
   "metadata": {},
   "outputs": [],
   "source": [
    "import scipy.stats as stats  \n",
    "def qq_plot_with_skewness(data, quantitative_var):\n",
    "    # Check if the variable is present in the DataFrame\n",
    "    if quantitative_var not in data.columns:\n",
    "        print(f\"Error: '{quantitative_var}' not found in the DataFrame.\")\n",
    "        return\n",
    "    \n",
    "    f, ax = plt.subplots(1, 2, figsize=(18, 5.5))\n",
    "\n",
    "    # Check for missing values\n",
    "    if data[quantitative_var].isnull().any():\n",
    "        print(f\"Warning: '{quantitative_var}' contains missing values. Results may be affected.\")\n",
    "\n",
    "    # QQ plot\n",
    "    stats.probplot(data[quantitative_var], plot=ax[0], fit=True)\n",
    "    ax[0].set_title(f'QQ Plot for {quantitative_var}')\n",
    "\n",
    "    # Skewness plot\n",
    "    sns.histplot(data[quantitative_var], kde=True, ax=ax[1])\n",
    "    ax[1].set_title(f'Distribution of {quantitative_var}')\n",
    "\n",
    "    # Calculate skewness value\n",
    "    skewness_value = stats.skew(data[quantitative_var])\n",
    "\n",
    "    # Display skewness value on the plot\n",
    "    ax[1].text(0.5, 0.5, f'Skewness: {skewness_value:.2f}', transform=ax[1].transAxes, \n",
    "               horizontalalignment='center', verticalalignment='center', fontsize=16, color='red')\n",
    "\n",
    "    plt.show()\n",
    "# Example usage for each continuous variable\n",
    "for var in continuous_vars:\n",
    "    qq_plot_with_skewness(train_data, var)"
   ]
  },
  {
   "cell_type": "code",
   "execution_count": null,
   "id": "a0aa9787",
   "metadata": {},
   "outputs": [],
   "source": [
    "# Feature Interaction\n",
    "train_data['Urbanization_Deforestation_Interaction'] = train_data['Urbanization'] * train_data['Deforestation']\n",
    "\n",
    "# Ratio Features\n",
    "train_data['Urbanization_TopographyDrainage_Ratio'] = train_data['Urbanization'] / (train_data['TopographyDrainage'] + 1)  # Added 1 to avoid division by zero\n",
    "\n",
    "# Aggregated Features (Example: Sum of selected columns)\n",
    "selected_columns = ['Urbanization', 'Deforestation', 'AgriculturalPractices', 'InadequatePlanning']\n",
    "train_data['Sum_Selected_Columns'] = train_data[selected_columns].sum(axis=1)"
   ]
  },
  {
   "cell_type": "code",
   "execution_count": null,
   "id": "bf7e9ac1",
   "metadata": {},
   "outputs": [],
   "source": [
    "# Feature Interaction\n",
    "test_data['Urbanization_Deforestation_Interaction'] = test_data['Urbanization'] * test_data['Deforestation']\n",
    "\n",
    "# Ratio Features\n",
    "test_data['Urbanization_TopographyDrainage_Ratio'] = test_data['Urbanization'] / (test_data['TopographyDrainage'] + 1)  # Added 1 to avoid division by zero\n",
    "\n",
    "# Aggregated Features (Example: Sum of selected columns)\n",
    "selected_columns = ['Urbanization', 'Deforestation', 'AgriculturalPractices', 'InadequatePlanning']\n",
    "test_data['Sum_Selected_Columns'] = test_data[selected_columns].sum(axis=1)"
   ]
  },
  {
   "cell_type": "code",
   "execution_count": null,
   "id": "e61146bb",
   "metadata": {},
   "outputs": [],
   "source": [
    "train_data.sample(10).style.set_properties(**{'background-color': '#f9f9f9', 'color': '#4CAF50', 'font-weight': 'bold'})"
   ]
  },
  {
   "cell_type": "code",
   "execution_count": null,
   "id": "640bf0d9",
   "metadata": {},
   "outputs": [],
   "source": [
    "test_data.sample(10).style.set_properties(**{'background-color': '#f9f9f9', 'color': '#1565C0', 'font-weight': 'bold'})"
   ]
  },
  {
   "cell_type": "code",
   "execution_count": null,
   "id": "c19a4ec3",
   "metadata": {},
   "outputs": [],
   "source": [
    "unique_counts = train_data.nunique()\n",
    "#Threshold to distinguish continous and categorical\n",
    "threshold = 12\n",
    "continuous_vars_temp = unique_counts[unique_counts > threshold].index.tolist()\n",
    "#categorical_vars = unique_counts[unique_counts <= threshold].index.tolist()\n",
    "if 'id' in continuous_vars_temp:\n",
    "    continuous_vars_temp.remove('id')"
   ]
  },
  {
   "cell_type": "code",
   "execution_count": null,
   "id": "adb186bc",
   "metadata": {},
   "outputs": [],
   "source": [
    "unique_counts_test = test_data.nunique()\n",
    "#Threshold to distinguish continous and categorical\n",
    "threshold = 12\n",
    "continuous_vars_temp_test = unique_counts_test[unique_counts_test > threshold].index.tolist()\n",
    "#categorical_vars = unique_counts[unique_counts <= threshold].index.tolist()\n",
    "if 'id' in continuous_vars_temp_test:\n",
    "    continuous_vars_temp_test.remove('id')"
   ]
  },
  {
   "cell_type": "code",
   "execution_count": null,
   "id": "a3883078",
   "metadata": {},
   "outputs": [],
   "source": [
    "def plot_boxplots(data, columns, ncols=2):\n",
    "    nrows = (len(columns) + ncols - 1) // ncols\n",
    "    fig, axes = plt.subplots(nrows=nrows, ncols=ncols, figsize=(15, 4 * nrows))\n",
    "\n",
    "    for i, column in enumerate(columns):\n",
    "        ax = axes[i // ncols, i % ncols] if nrows > 1 else axes[i % ncols]\n",
    "\n",
    "        if data[column].dtype == 'O':  # 'O' represents object (categorical) dtype\n",
    "            sns.countplot(x=column, data=data, ax=ax)\n",
    "            ax.set_title(f'Countplot for {column}')\n",
    "        else:\n",
    "            sns.boxplot(x=column, data=data, ax=ax)\n",
    "            ax.set_title(f'Boxplot for {column}')\n",
    "\n",
    "    plt.tight_layout()\n",
    "    plt.show()\n",
    "\n",
    "plot_boxplots(train_data, continuous_vars_temp)"
   ]
  },
  {
   "cell_type": "code",
   "execution_count": null,
   "id": "bd91639d",
   "metadata": {},
   "outputs": [],
   "source": [
    "def remove_outliers_replace(data, columns, threshold=1.5):\n",
    "    data_no_outliers = data.copy()\n",
    "\n",
    "    for column in columns:\n",
    "        Q1 = data_no_outliers[column].quantile(0.25)\n",
    "        Q3 = data_no_outliers[column].quantile(0.75)\n",
    "        IQR = Q3 - Q1\n",
    "\n",
    "        lower_bound = Q1 - threshold * IQR\n",
    "        upper_bound = Q3 + threshold * IQR\n",
    "\n",
    "        is_outlier = (data_no_outliers[column] < lower_bound) | (data_no_outliers[column] > upper_bound)\n",
    "\n",
    "        if data_no_outliers[column].dtype == 'O':  # Categorical column\n",
    "            median_value = data_no_outliers.loc[~is_outlier, column].mode().iloc[0]\n",
    "            data_no_outliers.loc[is_outlier, column] = median_value\n",
    "        else:  # Numerical column\n",
    "            mean_value = data_no_outliers.loc[~is_outlier, column].mean()\n",
    "            data_no_outliers.loc[is_outlier, column] = mean_value\n",
    "\n",
    "    return data_no_outliers\n",
    "\n",
    "columns_to_remove_outliers_replace = continuous_vars_temp\n",
    "train_data = remove_outliers_replace(train_data, columns_to_remove_outliers_replace)"
   ]
  },
  {
   "cell_type": "code",
   "execution_count": null,
   "id": "7bf83985",
   "metadata": {},
   "outputs": [],
   "source": [
    "columns_to_remove_outliers_replace = continuous_vars_temp_test\n",
    "test_data = remove_outliers_replace(test_data, columns_to_remove_outliers_replace)"
   ]
  },
  {
   "cell_type": "code",
   "execution_count": null,
   "id": "404002ad",
   "metadata": {},
   "outputs": [],
   "source": [
    "train_data.drop(columns='id',axis = 1,inplace = True)"
   ]
  },
  {
   "cell_type": "code",
   "execution_count": null,
   "id": "cc6f9758",
   "metadata": {},
   "outputs": [],
   "source": [
    "train_data.sample(10).style.set_properties(**{'background-color': '#f9f9f9', 'color': '#4CAF50', 'font-weight': 'bold'})"
   ]
  },
  {
   "cell_type": "code",
   "execution_count": null,
   "id": "a198b508",
   "metadata": {},
   "outputs": [],
   "source": [
    "X = train_data.drop(columns='FloodProbability', axis=1)\n",
    "y = train_data['FloodProbability']"
   ]
  },
  {
   "cell_type": "code",
   "execution_count": null,
   "id": "680baef1",
   "metadata": {},
   "outputs": [],
   "source": [
    "merged_data = pd.concat([X, y.rename('FloodProbability')], axis=1)\n",
    "\n",
    "# Calculate the correlation matrix\n",
    "correlation_matrix = merged_data.corr()\n",
    "\n",
    "# Plot the heatmap\n",
    "plt.figure(figsize=(10, 12))\n",
    "sns.heatmap(correlation_matrix[['FloodProbability']], annot=True, cmap='coolwarm', fmt=\".2f\", linewidths=0.5)\n",
    "plt.title('Correlation with respect to FloodProbability')\n",
    "plt.show()"
   ]
  },
  {
   "cell_type": "code",
   "execution_count": null,
   "id": "6d8fa819",
   "metadata": {},
   "outputs": [],
   "source": [
    "correlation_matrix = X.corr()\n",
    "\n",
    "# Set up the matplotlib figure with a larger size\n",
    "plt.figure(figsize=(18, 14))  # Increase the width and height as needed\n",
    "\n",
    "# Plot the correlation matrix as a heatmap with larger boxes\n",
    "heatmap = sns.heatmap(correlation_matrix, annot=True, cmap='Greens', fmt=\".2f\", linewidths=1, square=True)\n",
    "\n",
    "# Customize plot\n",
    "plt.title('Correlation Matrix', fontsize=20)  # Increase the font size of the title\n",
    "plt.xticks(fontsize=12)  # Increase the font size of x-axis labels\n",
    "plt.yticks(fontsize=12)  # Increase the font size of y-axis labels\n",
    "\n",
    "# Rotate the x-axis labels for better readability\n",
    "plt.xticks(rotation=45)\n",
    "\n",
    "# Adjust the aspect ratio to prevent distortion of cell shapes\n",
    "heatmap.set_aspect('equal')\n",
    "\n",
    "plt.show()"
   ]
  },
  {
   "cell_type": "code",
   "execution_count": null,
   "id": "d0273f28",
   "metadata": {},
   "outputs": [],
   "source": [
    "from statsmodels.stats.outliers_influence import variance_inflation_factor\n",
    "\n",
    "vif_data = pd.DataFrame()\n",
    "vif_data[\"Variable\"] = X.columns\n",
    "vif_data[\"VIF\"] = [variance_inflation_factor(X.values, i) for i in range(X.shape[1])]\n",
    "\n",
    "# Sort the dataframe by VIF values in descending order\n",
    "vif_data = vif_data.sort_values(by='VIF', ascending=False)\n",
    "\n",
    "# Set a VIF threshold (e.g., VIF > 5)\n",
    "vif_threshold = 5\n",
    "\n",
    "# Identify variables with high VIF that exceed the threshold\n",
    "high_vif_variables = vif_data[vif_data[\"VIF\"] > vif_threshold]\n",
    "\n",
    "# Create a beautiful bar plot using Seaborn, highlighting high VIF variables\n",
    "plt.figure(figsize=(12, 12))\n",
    "sns.set(style=\"whitegrid\")\n",
    "plot = sns.barplot(x=\"VIF\", y=\"Variable\", data=vif_data, palette=\"viridis\")\n",
    "\n",
    "# Highlight high VIF variables\n",
    "for bar in plot.patches:\n",
    "    if bar.get_width() > vif_threshold:\n",
    "        bar.set_color('coral')\n",
    "\n",
    "plt.xlabel('VIF')\n",
    "plt.ylabel('Variable')\n",
    "plt.title('Variance Inflation Factor (VIF) for Independent Variables')\n",
    "plt.xticks(fontsize=12)  # Increase font size of x-axis ticks\n",
    "plt.yticks(fontsize=12)  # Increase font size of y-axis ticks\n",
    "plt.grid(axis='x', linestyle='--', alpha=0.6, color='gray')  # Add grid lines\n",
    "plt.tight_layout()  # Adjust layout for better appearance\n",
    "plt.show()"
   ]
  },
  {
   "cell_type": "code",
   "execution_count": null,
   "id": "5103903d",
   "metadata": {},
   "outputs": [],
   "source": [
    "# Display high VIF variables\n",
    "print(\"Variables with high VIF (> {}):\".format(vif_threshold))\n",
    "high_vif_variables.style.background_gradient()"
   ]
  },
  {
   "cell_type": "code",
   "execution_count": null,
   "id": "f952506e",
   "metadata": {},
   "outputs": [],
   "source": [
    "target_columns = ['FloodProbability']\n",
    "\n",
    "# Perform pairwise t-tests for each target column with all other columns\n",
    "p_values = {}\n",
    "for target in target_columns:\n",
    "    p_values[target] = {}  # Initialize a dictionary for storing p-values for this target\n",
    "    for column in train_data.columns:\n",
    "        if column != target:  # Exclude the target column itself\n",
    "            t_stat, p_value = ttest_ind(train_data[target], train_data[column])\n",
    "            p_values[target][column] = p_value\n",
    "\n",
    "# Convert the nested dictionary to a DataFrame for better visualization\n",
    "p_values_df = pd.DataFrame(p_values)\n",
    "\n",
    "# Plotting the heatmap\n",
    "plt.figure(figsize=(10, 8))\n",
    "sns.heatmap(p_values_df, cmap='viridis', annot=True, fmt=\".2f\")\n",
    "plt.title('Pairwise t-test p-values with respect to FloodProbability')\n",
    "plt.xlabel('Columns')\n",
    "plt.ylabel('Target Columns')\n",
    "plt.xticks(rotation=45)\n",
    "plt.yticks(rotation=0)\n",
    "plt.tight_layout()\n",
    "plt.show()"
   ]
  },
  {
   "cell_type": "code",
   "execution_count": null,
   "id": "50001c74",
   "metadata": {},
   "outputs": [],
   "source": [
    "print(\"P-values for Hypothesis Testing:\")\n",
    "p_values_df.style.background_gradient()"
   ]
  },
  {
   "cell_type": "code",
   "execution_count": null,
   "id": "d0f9d043",
   "metadata": {},
   "outputs": [],
   "source": [
    "target_columns = ['FloodProbability']\n",
    "\n",
    "# Perform pairwise t-tests for each target column with all other columns\n",
    "significant_columns = {}\n",
    "for target in target_columns:\n",
    "    p_values = {}  # Initialize a dictionary for storing p-values for this target\n",
    "    for column in train_data.columns:\n",
    "        if column != target:  # Exclude the target column itself\n",
    "            t_stat, p_value = ttest_ind(train_data[target], train_data[column])\n",
    "            p_values[column] = p_value\n",
    "    \n",
    "    # Filter columns based on p-value threshold (e.g., 0.05)\n",
    "    significant_columns[target] = [col for col, p_val in p_values.items() if p_val <= 0.05]\n",
    "\n",
    "# Display the number of significant columns for each target column\n",
    "for target, cols in significant_columns.items():\n",
    "    print(f\"Number of significant columns for '{target}': {len(cols)}\")"
   ]
  },
  {
   "cell_type": "code",
   "execution_count": null,
   "id": "8ffd341a",
   "metadata": {},
   "outputs": [],
   "source": [
    "# Display the new DataFrame with principal components\n",
    "print(\"DataFrame with Principal Components:\")\n",
    "\n",
    "# Visualize in 3D if there are at least 3 components\n",
    "if num_components >= 3:\n",
    "    fig = plt.figure(figsize=(12, 8))\n",
    "    ax = fig.add_subplot(111, projection='3d')\n",
    "    scatter = ax.scatter(pca_df['PC1'], pca_df['PC2'], pca_df['PC3'], c=colors, cmap='viridis', alpha=0.5)\n",
    "    ax.set_title('PCA Result (3D) with Different Colors')\n",
    "    ax.set_xlabel('Principal Component 1')\n",
    "    ax.set_ylabel('Principal Component 2')\n",
    "    ax.set_zlabel('Principal Component 3')\n",
    "    colorbar = fig.colorbar(scatter, ax=ax, pad=0.1)\n",
    "    colorbar.set_label('Color Label')  # Update with appropriate label\n",
    "\n",
    "    plt.show()\n",
    "else:\n",
    "    print(\"Number of components is less than 3, unable to visualize in 3D.\")\n",
    "    \n",
    "pca_df.sample(10).style.background_gradient()"
   ]
  },
  {
   "cell_type": "code",
   "execution_count": null,
   "id": "13a0e275",
   "metadata": {},
   "outputs": [],
   "source": [
    "X_scale = train_data.drop(columns='FloodProbability', axis=1)\n",
    "y_scale = train_data['FloodProbability']"
   ]
  },
  {
   "cell_type": "code",
   "execution_count": null,
   "id": "da66ec41",
   "metadata": {},
   "outputs": [],
   "source": [
    "ss = StandardScaler()"
   ]
  },
  {
   "cell_type": "code",
   "execution_count": null,
   "id": "23e68981",
   "metadata": {},
   "outputs": [],
   "source": [
    "X_scale_S = ss.fit_transform(X_scale)"
   ]
  },
  {
   "cell_type": "code",
   "execution_count": null,
   "id": "2fe31f94",
   "metadata": {},
   "outputs": [],
   "source": [
    "X_scale_S"
   ]
  },
  {
   "cell_type": "code",
   "execution_count": null,
   "id": "b17a97e9",
   "metadata": {},
   "outputs": [],
   "source": [
    "X_train, X_test, y_train, y_test = train_test_split(X, y, test_size=0.2, random_state=42)"
   ]
  },
  {
   "cell_type": "code",
   "execution_count": null,
   "id": "035d98f4",
   "metadata": {},
   "outputs": [],
   "source": [
    "X_train2, X_test2, y_train2, y_test2 = train_test_split(X_scale_S, y, test_size=0.2, random_state=42)"
   ]
  },
  {
   "cell_type": "code",
   "execution_count": null,
   "id": "5f702819",
   "metadata": {},
   "outputs": [],
   "source": [
    "best_params = {'learning_rate': 0.049769346237099124, \n",
    "               'n_estimators': 584,\n",
    "               'reg_alpha': 0.678327747915515, \n",
    "               'reg_lambda': 0.6307183788894067,\n",
    "               'max_depth': 14, 'subsample': 0.9433308610114127,\n",
    "               'colsample_bytree': 0.3492429037129386, \n",
    "               'min_child_weight': 7.658855760564173}"
   ]
  },
  {
   "cell_type": "code",
   "execution_count": null,
   "id": "6f54324f",
   "metadata": {},
   "outputs": [],
   "source": [
    "# optimized parameters     \n",
    "xgb_best_params = {\n",
    "    'n_estimators': 804,\n",
    "    'learning_rate': 0.07366400082037482,\n",
    "    'max_depth': 5,\n",
    "    'min_child_weight': 7,\n",
    "    'gamma': 0.0049952867265411136, \n",
    "    'subsample': 0.5012471120723563, \n",
    "    'colsample_bytree': 0.848562748505815,\n",
    "    'lambda': 1.9547551669960237, \n",
    "    'alpha': 1.5254037937212281\n",
    "}"
   ]
  },
  {
   "cell_type": "code",
   "execution_count": null,
   "id": "65fcafea",
   "metadata": {},
   "outputs": [],
   "source": [
    "model = XGBRegressor(**best_params)\n",
    "model.fit(X_scale_S, y)"
   ]
  },
  {
   "cell_type": "code",
   "execution_count": null,
   "id": "5d06ab21",
   "metadata": {},
   "outputs": [],
   "source": [
    "model_xgb = XGBRegressor(**xgb_best_params)\n",
    "model_xgb.fit(X_scale_S, y)"
   ]
  },
  {
   "cell_type": "code",
   "execution_count": null,
   "id": "6102fd73",
   "metadata": {},
   "outputs": [],
   "source": [
    "feature_importance = model.feature_importances_\n",
    "feature_names = X.columns\n",
    "\n",
    "sorted_indices = feature_importance.argsort()\n",
    "sorted_importance = feature_importance[sorted_indices]\n",
    "sorted_features = feature_names[sorted_indices]\n",
    "\n",
    "plt.figure(figsize=(10, 6))\n",
    "colors = plt.cm.tab20c.colors[:len(sorted_features)]  \n",
    "plt.barh(sorted_features, sorted_importance, color=colors)\n",
    "plt.xlabel('Importance')\n",
    "plt.ylabel('Feature')\n",
    "plt.title('XGBoost Feature Importance')\n",
    "plt.gca().invert_yaxis() \n",
    "plt.tight_layout()  \n",
    "plt.show()"
   ]
  },
  {
   "cell_type": "code",
   "execution_count": null,
   "id": "46f163b1",
   "metadata": {},
   "outputs": [],
   "source": [
    "#best_params_cat = {}"
   ]
  },
  {
   "cell_type": "code",
   "execution_count": null,
   "id": "ef6035be",
   "metadata": {},
   "outputs": [],
   "source": [
    "#model_cat = CatBoostRegressor(**best_params_cat)\n",
    "model_cat = CatBoostRegressor()\n",
    "model_cat.fit(X_scale_S, y)"
   ]
  },
  {
   "cell_type": "code",
   "execution_count": null,
   "id": "79b02698",
   "metadata": {},
   "outputs": [],
   "source": [
    "pool = Pool(X_scale_S, y)\n",
    "\n",
    "# Get feature importance\n",
    "feature_importance = model_cat.get_feature_importance(pool, type='PredictionValuesChange', prettified=True)\n",
    "\n",
    "# Sort feature importance values\n",
    "feature_importance_sorted = feature_importance.sort_values(by='Importances', ascending=False)\n",
    "\n",
    "# Generate a color gradient for the bars\n",
    "colors = sns.color_palette(\"viridis\", len(feature_importance_sorted))\n",
    "\n",
    "# Plot feature importance with customized colors and black border for bars\n",
    "plt.figure(figsize=(10, 6))\n",
    "bars = plt.barh(feature_importance_sorted['Feature Id'], feature_importance_sorted['Importances'], color=colors, edgecolor='black')  # Add edgecolor='black' for black borders\n",
    "plt.xlabel('Importance')\n",
    "plt.ylabel('Feature')\n",
    "plt.title('CatBoost Feature Importance')\n",
    "plt.gca().invert_yaxis()  # Invert y-axis to have the most important features at the top\n",
    "plt.tight_layout()  # Adjust layout to prevent cropping\n",
    "\n",
    "# Add color bar legend\n",
    "sm = plt.cm.ScalarMappable(cmap='viridis')\n",
    "sm.set_array(feature_importance_sorted['Importances'])\n",
    "cbar = plt.colorbar(sm, orientation='vertical')\n",
    "cbar.set_label('Importance Color Gradient')\n",
    "\n",
    "plt.show()"
   ]
  },
  {
   "cell_type": "code",
   "execution_count": null,
   "id": "f966e145",
   "metadata": {},
   "outputs": [],
   "source": [
    "#print('Best Parameters:', study.best_params)\n",
    "best_params_lgbm = {\n",
    "    'n_estimators': 939,\n",
    "    'learning_rate': 0.2686031022851845,\n",
    "    'max_depth': 3, \n",
    "    'min_child_samples': 55, \n",
    "    'num_leaves': 68,\n",
    "    'subsample': 0.698948956171567,\n",
    "    'colsample_bytree': 0.5834834747393846, \n",
    "    'reg_lambda': 1.0666821210651256,\n",
    "    'reg_alpha': 1.9332040363807412\n",
    "}"
   ]
  },
  {
   "cell_type": "code",
   "execution_count": null,
   "id": "97c0b768",
   "metadata": {},
   "outputs": [],
   "source": [
    "import warnings\n",
    "# Filter out LightGBM warnings\n",
    "warnings.filterwarnings(\"ignore\", category=DeprecationWarning)\n",
    "warnings.filterwarnings(\"ignore\", category=UserWarning)\n",
    "warnings.filterwarnings(\"ignore\", category=FutureWarning)"
   ]
  },
  {
   "cell_type": "code",
   "execution_count": null,
   "id": "6ef844f8",
   "metadata": {},
   "outputs": [],
   "source": [
    "model_lgbm = LGBMRegressor(**best_params_lgbm)\n",
    "model_lgbm.fit(X_scale_S,y)"
   ]
  },
  {
   "cell_type": "code",
   "execution_count": null,
   "id": "8e069fe6",
   "metadata": {},
   "outputs": [],
   "source": [
    "feature_importance = model_lgbm.feature_importances_\n",
    "\n",
    "feature_names = X.columns\n",
    "\n",
    "sorted_indices = feature_importance.argsort()\n",
    "sorted_importance = feature_importance[sorted_indices]\n",
    "sorted_features = feature_names[sorted_indices]\n",
    "\n",
    "# Plot feature importance\n",
    "plt.figure(figsize=(12, 8))\n",
    "colors = plt.cm.Paired.colors[:len(sorted_features)]  \n",
    "plt.barh(sorted_features, sorted_importance, color=colors)\n",
    "plt.xlabel('Importance', fontsize=12)\n",
    "plt.ylabel('Feature', fontsize=12)\n",
    "plt.title('LightGBM Feature Importance', fontsize=14)\n",
    "plt.gca().invert_yaxis() \n",
    "\n",
    "for i, v in enumerate(sorted_importance):\n",
    "    plt.text(v + 0.02, i, f'{v:.2f}', color='black', va='center', fontsize=10)\n",
    "\n",
    "plt.tight_layout()  \n",
    "plt.show()"
   ]
  },
  {
   "cell_type": "code",
   "execution_count": null,
   "id": "38b3794b",
   "metadata": {},
   "outputs": [],
   "source": [
    "test_pred = test_data.drop(columns='id',axis = 1)"
   ]
  },
  {
   "cell_type": "code",
   "execution_count": null,
   "id": "a1cd7c31",
   "metadata": {},
   "outputs": [],
   "source": [
    "predictions_xg = model.predict(test_pred)"
   ]
  },
  {
   "cell_type": "code",
   "execution_count": null,
   "id": "73c3a7db",
   "metadata": {},
   "outputs": [],
   "source": [
    "predictions_xg"
   ]
  },
  {
   "cell_type": "code",
   "execution_count": null,
   "id": "8bb8379c",
   "metadata": {},
   "outputs": [],
   "source": [
    "predictions_xg2 = model_xgb.predict(test_pred)"
   ]
  },
  {
   "cell_type": "code",
   "execution_count": null,
   "id": "9b0b8ac3",
   "metadata": {},
   "outputs": [],
   "source": [
    "predictions_xg2"
   ]
  },
  {
   "cell_type": "code",
   "execution_count": null,
   "id": "75789352",
   "metadata": {},
   "outputs": [],
   "source": [
    "prediction_catboost = model_cat.predict(test_pred)"
   ]
  },
  {
   "cell_type": "code",
   "execution_count": null,
   "id": "2d014c44",
   "metadata": {},
   "outputs": [],
   "source": [
    "prediction_catboost"
   ]
  },
  {
   "cell_type": "code",
   "execution_count": null,
   "id": "72ca5509",
   "metadata": {},
   "outputs": [],
   "source": []
  },
  {
   "cell_type": "code",
   "execution_count": null,
   "id": "3e71caf9",
   "metadata": {},
   "outputs": [],
   "source": [
    "prediction_lgbm = model_lgbm.predict(test_pred)"
   ]
  },
  {
   "cell_type": "code",
   "execution_count": null,
   "id": "a456ae9e",
   "metadata": {},
   "outputs": [],
   "source": [
    "prediction_lgbm"
   ]
  },
  {
   "cell_type": "code",
   "execution_count": null,
   "id": "4f762bb5",
   "metadata": {},
   "outputs": [],
   "source": [
    "submitted_xgboost = pd.read_csv(\"/ekoagro/input/xgboostsubmission2/XGBoost_Submission2.csv\")"
   ]
  },
  {
   "cell_type": "code",
   "execution_count": null,
   "id": "af9ed6c8",
   "metadata": {},
   "outputs": [],
   "source": [
    "submitted_xgboost['FloodProbability'].head(3)"
   ]
  },
  {
   "cell_type": "code",
   "execution_count": null,
   "id": "6aff3d0e",
   "metadata": {},
   "outputs": [],
   "source": [
    "sample_submission = pd.read_csv(\"/ekoagro/input/playground-series-s4e5/sample_submission.csv\")"
   ]
  },
  {
   "cell_type": "code",
   "execution_count": null,
   "id": "a0729ba8",
   "metadata": {},
   "outputs": [],
   "source": []
  },
  {
   "cell_type": "code",
   "execution_count": null,
   "id": "308b8b45",
   "metadata": {},
   "outputs": [],
   "source": [
    "ample_submission['FloodProbability'] = predictions_xg"
   ]
  },
  {
   "cell_type": "code",
   "execution_count": null,
   "id": "68b8e35c",
   "metadata": {},
   "outputs": [],
   "source": [
    "sample_submission.to_csv(\"XGBoost_Submission.csv\",index=False)"
   ]
  },
  {
   "cell_type": "code",
   "execution_count": null,
   "id": "52279669",
   "metadata": {},
   "outputs": [],
   "source": [
    "sample_submission['FloodProbability'] = submitted_xgboost['FloodProbability']"
   ]
  },
  {
   "cell_type": "code",
   "execution_count": null,
   "id": "98cab732",
   "metadata": {},
   "outputs": [],
   "source": [
    "sample_submission.to_csv(\"XGBoost_Submission2.csv\",index=False)"
   ]
  },
  {
   "cell_type": "code",
   "execution_count": null,
   "id": "a4065007",
   "metadata": {},
   "outputs": [],
   "source": [
    "sample_submission['FloodProbability'] = prediction_catboost"
   ]
  },
  {
   "cell_type": "code",
   "execution_count": null,
   "id": "6495bdd6",
   "metadata": {},
   "outputs": [],
   "source": [
    "sample_submission.to_csv(\"CatBoost_Submission.csv\",index=False)"
   ]
  },
  {
   "cell_type": "code",
   "execution_count": null,
   "id": "21ed83ca",
   "metadata": {},
   "outputs": [],
   "source": [
    "sample_submission['FloodProbability'] = prediction_lgbm"
   ]
  },
  {
   "cell_type": "code",
   "execution_count": null,
   "id": "368ba860",
   "metadata": {},
   "outputs": [],
   "source": [
    "sample_submission.to_csv(\"LGMB_Submission.csv\",index=False)"
   ]
  },
  {
   "cell_type": "code",
   "execution_count": null,
   "id": "5544e4eb",
   "metadata": {},
   "outputs": [],
   "source": []
  }
 ],
 "metadata": {
  "kernelspec": {
   "display_name": "Python 3 (ipykernel)",
   "language": "python",
   "name": "python3"
  },
  "language_info": {
   "codemirror_mode": {
    "name": "ipython",
    "version": 3
   },
   "file_extension": ".py",
   "mimetype": "text/x-python",
   "name": "python",
   "nbconvert_exporter": "python",
   "pygments_lexer": "ipython3",
   "version": "3.9.13"
  }
 },
 "nbformat": 4,
 "nbformat_minor": 5
}
